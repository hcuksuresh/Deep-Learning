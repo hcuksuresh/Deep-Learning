{
 "cells": [
  {
   "cell_type": "code",
   "execution_count": 1,
   "metadata": {},
   "outputs": [],
   "source": [
    "import numpy as np\n",
    "import pandas as pd \n",
    "import psycopg2"
   ]
  },
  {
   "cell_type": "code",
   "execution_count": 2,
   "metadata": {},
   "outputs": [],
   "source": [
    "dbname='abc'\n",
    "host='redshift-cluster-project-name.abcedfedfg.us-east-2.redshift.amazonaws.com'\n",
    "port='1234'\n",
    "user='username' \n",
    "password='password'"
   ]
  },
  {
   "cell_type": "code",
   "execution_count": 2,
   "metadata": {},
   "outputs": [],
   "source": [
    "con = psycopg2.connect(dbname='abc', host='redshift-cluster-project-name.abcedfedfg.us-east-2.redshift.amazonaws.com', port='1234', user='username', password='password')\n",
    "#con=psycopg2.connect(dbname= 'dbname', host='host', \n",
    "#port= 'port', user= 'user', password= 'password')\n",
    "cur = con.cursor()\n",
    "cur.execute(\"SELECT * FROM covid_data.news_table;\")\n",
    "dlist = list(cur.fetchall())\n",
    "print(dlist)"
   ]
  },
  {
   "cell_type": "code",
   "execution_count": 4,
   "metadata": {},
   "outputs": [],
   "source": [
    "data = pd.DataFrame(dlist)"
   ]
  }
 ],
 "metadata": {
  "kernelspec": {
   "display_name": "Python 3",
   "language": "python",
   "name": "python3"
  },
  "language_info": {
   "codemirror_mode": {
    "name": "ipython",
    "version": 3
   },
   "file_extension": ".py",
   "mimetype": "text/x-python",
   "name": "python",
   "nbconvert_exporter": "python",
   "pygments_lexer": "ipython3",
   "version": "3.8.3"
  }
 },
 "nbformat": 4,
 "nbformat_minor": 4
}
